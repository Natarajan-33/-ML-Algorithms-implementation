{
 "cells": [
  {
   "cell_type": "markdown",
   "id": "bd659490",
   "metadata": {},
   "source": [
    "# Problem statement\n",
    "- Task 1\n",
    "### Build a TFIDF Vectorizer from scratch & compare its results with Sklearn:"
   ]
  },
  {
   "cell_type": "code",
   "execution_count": 1,
   "id": "6a541bb1",
   "metadata": {},
   "outputs": [],
   "source": [
    "#IMPORT REQUIRED LIBRARIES\n",
    "from collections import Counter\n",
    "from tqdm import tqdm\n",
    "from scipy.sparse import csr_matrix\n",
    "import math\n",
    "import operator\n",
    "from sklearn.preprocessing import normalize\n",
    "import numpy"
   ]
  },
  {
   "cell_type": "code",
   "execution_count": 2,
   "id": "bc90f39d",
   "metadata": {},
   "outputs": [],
   "source": [
    "corpus = [\n",
    "     'this is the first document',\n",
    "     'this document is the second document',\n",
    "     'and this is the third one',\n",
    "     'is this the first document',\n",
    "]"
   ]
  },
  {
   "cell_type": "code",
   "execution_count": 3,
   "id": "7eca0b15",
   "metadata": {},
   "outputs": [],
   "source": [
    "#FIT FUNCTION\n",
    "\n",
    "def fit(corpus):\n",
    "#STORING UNIQUE WORDS TO DICTIONARY WITH THEIR RESPECTIVE INDEX\n",
    "    #initialize a empty set\n",
    "    unique_words=set()\n",
    "    #check whether given corpus in list format or not\n",
    "    if isinstance(corpus,(list,)):\n",
    "        #iterate over every row in the corpus list\n",
    "        for idx,row in enumerate(corpus):\n",
    "            #for every word in the row\n",
    "            for word in row.split():\n",
    "                #skipping the words with lenth 1\n",
    "                if len(word)<2:\n",
    "                    continue\n",
    "                #adding each word to the set\n",
    "                unique_words.add(word)\n",
    "        #converting set to list and then sort it \n",
    "        unique_words=sorted(list(unique_words))\n",
    "        #storing every word to the dictionary with word as the key and their respective index as value\n",
    "        vocab={j:i for i,j in enumerate(unique_words)}\n",
    "        \n",
    "#TO CALCULATE TERM FREQUENCY OF EVERY WORD\n",
    "        tf=[]\n",
    "        #iterate over evey row in the corpus\n",
    "        for row in corpus:\n",
    "            temp=[]\n",
    "            #for evey key in the vocab\n",
    "            for key in vocab:\n",
    "                no_of_times=0\n",
    "                #to count number of times the word(key=each unique word) in the dictionary appeared in that ROW\n",
    "                for word in row.split():\n",
    "                    if word==key:\n",
    "                        no_of_times+=1\n",
    "                #calculate TF by finding number of times each unique word appeared in a row divided by total number of words in that row\n",
    "                temp.append(no_of_times/len(row.split()))\n",
    "            #appending TF values of all words in each row\n",
    "            tf.append(temp)\n",
    "    \n",
    "\n",
    "#CALCULATE INVERSE DOCUMENTRY FREQUENCY OF EACH WORD\n",
    "        idf=[]\n",
    "        #for evey key in the vocab\n",
    "        for key in vocab:\n",
    "            no_of_doc=0\n",
    "            #iterate over evey row in the corpus\n",
    "            for row in corpus:\n",
    "                #to count number of times the word(key=each unique word) in the dictionary appeared in the DOCUMENT\n",
    "                for word in row.split():\n",
    "                    if word==key:\n",
    "                        no_of_doc+=1\n",
    "                        #break helps to move to next row(document) if a word in a row is considered once.\n",
    "                        break\n",
    "                    #if word is not match with key,just continue with next word\n",
    "                    else:\n",
    "                        continue\n",
    "            #calculate IDF and append it on list            \n",
    "            idf.append(1+(math.log(((1+len(corpus))/(1+no_of_doc)))))\n",
    "        \n",
    "\n",
    "#CALCULATE NORMALISED VALUES OF TF_IDF VALUES\n",
    "        tf_idf=[]\n",
    "        #for every row(tf values of all words in that perticular row) in tf list\n",
    "        for lst in tf:\n",
    "            temp=[]\n",
    "            #multipy TF values of each word with its IDF value respectively\n",
    "            for idx in range(len(lst)):              \n",
    "                temp.append(lst[idx]*idf[idx])\n",
    "            tf_idf.append(temp)\n",
    "        #calculate normalization of TF_IDF values\n",
    "        tf_idf_norm=normalize(tf_idf, norm='l2')    \n",
    "        return vocab,tf_idf_norm,idf\n",
    "   \n",
    "    else:\n",
    "        print(\"you need to pass list of sentence\")"
   ]
  },
  {
   "cell_type": "code",
   "execution_count": 4,
   "id": "2c6cebba",
   "metadata": {},
   "outputs": [
    {
     "name": "stdout",
     "output_type": "stream",
     "text": [
      "VOCAB IS\n",
      " {'and': 0, 'document': 1, 'first': 2, 'is': 3, 'one': 4, 'second': 5, 'the': 6, 'third': 7, 'this': 8}\n",
      "************************************************************************************************************************\n",
      "IDF VALUES ARE\n",
      " [1.916290731874155, 1.2231435513142097, 1.5108256237659907, 1.0, 1.916290731874155, 1.916290731874155, 1.0, 1.916290731874155, 1.0]\n"
     ]
    }
   ],
   "source": [
    "#Calling fit function\n",
    "vocab,tf_idf_norm,idf=fit(corpus)\n",
    "print('VOCAB IS\\n',vocab)\n",
    "print('*'*120)\n",
    "#print('NORMALISED TF_IDF VALUES ARE\\n',tf_idf_norm)\n",
    "#print('*'*120)\n",
    "print('IDF VALUES ARE\\n',idf)"
   ]
  },
  {
   "cell_type": "code",
   "execution_count": 5,
   "id": "f33894f2",
   "metadata": {},
   "outputs": [],
   "source": [
    "#TRANSFORM FUNCTION TO CREATE FEATURE MATRIX\n",
    "\n",
    "def transform(corpus,vocab):\n",
    "    rows = []           #list to store row index of the word         \n",
    "    columns = []        #list to store column index of the word  \n",
    "    values = []         #list to store normalised tf_idf values of words\n",
    "    #check whether given corpus in list format or not\n",
    "    if isinstance(corpus,(list,)):\n",
    "        #iterate over every row in the corpus list\n",
    "        for idx,row in enumerate(tqdm(corpus)):\n",
    "            #for every word in the row\n",
    "            for word in row.split():\n",
    "                #get column index of a word if it present in vocab(dictionary) or else set it to -1\n",
    "                col_index=vocab.get(word,-1)\n",
    "                #to check if column index of a word if it present in vocab(dictionary) is not -1\n",
    "                if col_index!=-1:\n",
    "                    #append row index of the word\n",
    "                    rows.append(idx)\n",
    "                    #append column index of the word\n",
    "                    columns.append(col_index)\n",
    "                    #append normalised tf_idf of that word\n",
    "                    values.append(tf_idf_norm[idx][col_index])\n",
    "        #creating sparse matrix from feature matrix    \n",
    "        return csr_matrix((values,(rows,columns)),shape=(len(corpus),len(vocab)))    "
   ]
  },
  {
   "cell_type": "code",
   "execution_count": 6,
   "id": "e86dc249",
   "metadata": {},
   "outputs": [
    {
     "name": "stderr",
     "output_type": "stream",
     "text": [
      "100%|████████████████████████████████████████████████████████████████████████████████████████████| 4/4 [00:00<?, ?it/s]"
     ]
    },
    {
     "name": "stdout",
     "output_type": "stream",
     "text": [
      "MATRIX SHAPE IS\n",
      " (4, 9)\n",
      "****************************************************************************************************\n",
      "FIRST ROW OF SPARSE MATRIX\n",
      "   (0, 1)\t0.4697913855799205\n",
      "  (0, 2)\t0.580285823684436\n",
      "  (0, 3)\t0.3840852409148149\n",
      "  (0, 6)\t0.3840852409148149\n",
      "  (0, 8)\t0.3840852409148149\n",
      "****************************************************************************************************\n",
      "FIRST ROW(DOCUMENT) OF SPARSE MATRIX IS CONVERTED INTO DENSE MATRIX FORMAT\n",
      " [[0.         0.46979139 0.58028582 0.38408524 0.         0.\n",
      "  0.38408524 0.         0.38408524]]\n"
     ]
    },
    {
     "name": "stderr",
     "output_type": "stream",
     "text": [
      "\n"
     ]
    }
   ],
   "source": [
    "#Calling transform function\n",
    "matrix=transform(corpus,vocab)\n",
    "print('MATRIX SHAPE IS\\n',matrix.shape)\n",
    "print('*'*100)\n",
    "print('FIRST ROW OF SPARSE MATRIX\\n',matrix[0])\n",
    "print('*'*100)\n",
    "print('FIRST ROW(DOCUMENT) OF SPARSE MATRIX IS CONVERTED INTO DENSE MATRIX FORMAT\\n',matrix[0].toarray())"
   ]
  },
  {
   "cell_type": "markdown",
   "id": "d09a043b",
   "metadata": {},
   "source": [
    "## Result are matching when comparing  with sklearn tf_idf vectoriser output"
   ]
  },
  {
   "cell_type": "code",
   "execution_count": 7,
   "id": "73526a12",
   "metadata": {},
   "outputs": [],
   "source": [
    "#sklearn tf_idf vectoriser\n",
    "from sklearn.feature_extraction.text import TfidfVectorizer\n",
    "vectorizer = TfidfVectorizer()\n",
    "vectorizer.fit(corpus)\n",
    "skl_output = vectorizer.transform(corpus)"
   ]
  },
  {
   "cell_type": "code",
   "execution_count": 8,
   "id": "1c0ffdd7",
   "metadata": {},
   "outputs": [
    {
     "name": "stdout",
     "output_type": "stream",
     "text": [
      "['and', 'document', 'first', 'is', 'one', 'second', 'the', 'third', 'this']\n"
     ]
    },
    {
     "name": "stderr",
     "output_type": "stream",
     "text": [
      "C:\\Users\\natar\\anaconda3\\envs\\tf_gpu\\lib\\site-packages\\sklearn\\utils\\deprecation.py:87: FutureWarning: Function get_feature_names is deprecated; get_feature_names is deprecated in 1.0 and will be removed in 1.2. Please use get_feature_names_out instead.\n",
      "  warnings.warn(msg, category=FutureWarning)\n"
     ]
    }
   ],
   "source": [
    "print(vectorizer.get_feature_names())\n"
   ]
  },
  {
   "cell_type": "code",
   "execution_count": 9,
   "id": "9e1b7d73",
   "metadata": {},
   "outputs": [
    {
     "name": "stdout",
     "output_type": "stream",
     "text": [
      "[1.91629073 1.22314355 1.51082562 1.         1.91629073 1.91629073\n",
      " 1.         1.91629073 1.        ]\n"
     ]
    }
   ],
   "source": [
    "print(vectorizer.idf_)"
   ]
  },
  {
   "cell_type": "code",
   "execution_count": 10,
   "id": "17c9a47a",
   "metadata": {},
   "outputs": [
    {
     "data": {
      "text/plain": [
       "(4, 9)"
      ]
     },
     "execution_count": 10,
     "metadata": {},
     "output_type": "execute_result"
    }
   ],
   "source": [
    "skl_output.shape"
   ]
  },
  {
   "cell_type": "code",
   "execution_count": 11,
   "id": "03be98ee",
   "metadata": {},
   "outputs": [
    {
     "name": "stdout",
     "output_type": "stream",
     "text": [
      "  (0, 8)\t0.38408524091481483\n",
      "  (0, 6)\t0.38408524091481483\n",
      "  (0, 3)\t0.38408524091481483\n",
      "  (0, 2)\t0.5802858236844359\n",
      "  (0, 1)\t0.46979138557992045\n"
     ]
    }
   ],
   "source": [
    "print(skl_output[0])"
   ]
  },
  {
   "cell_type": "code",
   "execution_count": 12,
   "id": "7b064d9c",
   "metadata": {},
   "outputs": [
    {
     "name": "stdout",
     "output_type": "stream",
     "text": [
      "[[0.         0.46979139 0.58028582 0.38408524 0.         0.\n",
      "  0.38408524 0.         0.38408524]]\n"
     ]
    }
   ],
   "source": [
    "print(skl_output[0].toarray())"
   ]
  },
  {
   "cell_type": "markdown",
   "id": "4555d93b",
   "metadata": {},
   "source": [
    "# TASK 2\n",
    "### Implement max features functionality:"
   ]
  },
  {
   "cell_type": "code",
   "execution_count": 14,
   "id": "68ffef8f",
   "metadata": {},
   "outputs": [
    {
     "name": "stdout",
     "output_type": "stream",
     "text": [
      "Number of documents in corpus =  746\n"
     ]
    }
   ],
   "source": [
    "# Below is the code to load the cleaned_strings pickle file provided\n",
    "# Here corpus is of list type\n",
    "\n",
    "import pickle\n",
    "with open('cleaned_strings', 'rb') as f:\n",
    "    corpus = pickle.load(f)\n",
    "    \n",
    "# printing the length of the corpus loaded\n",
    "print(\"Number of documents in corpus = \",len(corpus))"
   ]
  },
  {
   "cell_type": "code",
   "execution_count": 15,
   "id": "35fa3a05",
   "metadata": {},
   "outputs": [],
   "source": [
    "#FIT FUNCTION\n",
    "\n",
    "def fit(corpus):\n",
    "    #initialize a empty set\n",
    "    unique_words=set()\n",
    "    #check whether given corpus in list format or not\n",
    "    if isinstance(corpus,(list,)):\n",
    "        #iterate over every row in the corpus list\n",
    "        for idx,row in enumerate(corpus):\n",
    "            #for every word in the row\n",
    "            for word in row.split():\n",
    "                #skipping the words with lenth less than 1\n",
    "                if len(word)<2:\n",
    "                    continue\n",
    "                 #adding each word to the set\n",
    "                unique_words.add(word)\n",
    "        #converting set to list and then sort it \n",
    "        unique_words=sorted(list(unique_words))\n",
    "        #storing every word to the dictionary with word as the key and their respective index as value\n",
    "        vocab={j:i for i,j in enumerate(unique_words)}\n",
    "        \n",
    " \n",
    " #CALCULATE INVERSE DOCUMENTRY FREQUENCY OF TOP 50 IDF WORDS\n",
    "        idf=[]                            #list to store idf values\n",
    "        vocab_idf={}                      #dictionary to store words with their respective idf values\n",
    "        sorted_vocab_idf={}               #dictionary to store top 50 idf values as values and respective words as keys\n",
    "        sorted_vocab_index={}             #dictionary to store new index of top 50 idf values as values and respective words as keys\n",
    "        #for evey key(word) in the vocab\n",
    "        for key in vocab:\n",
    "            no_of_doc=0\n",
    "            #iterate over evey row in the corpus\n",
    "            for row in corpus:\n",
    "                #to count number of times the word(key=each unique word) in the dictionary appeared in the DOCUMENT\n",
    "                for word in row.split():\n",
    "                    if word==key:\n",
    "                        no_of_doc+=1\n",
    "                        #break helps to move to next row(document) if a word in a row is considered once.\n",
    "                        break\n",
    "                    #if word is not match with key,just continue with next word\n",
    "                    else:\n",
    "                        continue\n",
    "            #calculate IDF and append it on list   \n",
    "            idf.append(1+(math.log(((1+len(corpus))/(1+no_of_doc)))))\n",
    "            #dictionary to store word as a key and its idf values as value\n",
    "            vocab_idf[key]=(1+(math.log(((1+len(corpus))/(1+no_of_doc)))))\n",
    "        #vocab_idf.items()------ retuns values and key pairs\n",
    "        #item[1]----- in lamda function returns key values and then key values are sorted in desending order\n",
    "        #[:50]------ slicing is used to get top 50 key vales of sorted idf values\n",
    "        #sorted_vocab_idf----dictionary containing top 50 idf values as values and respective words as keys\n",
    "        sorted_vocab_idf={k: v for k, v in sorted(vocab_idf.items(), key=lambda item: item[1],reverse=True)[:50]}\n",
    "        #give new index to sorted keys(words)\n",
    "        s=list(sorted_vocab_idf.keys())\n",
    "        sorted_vocab_index={j:i for i,j in enumerate(s)}\n",
    "       \n",
    "\n",
    " #TO CALCULATE TERM FREQUENCY OF EVERY WORD\n",
    "        tf=[]\n",
    "        #iterate over evey row in the corpus\n",
    "        for row in corpus:\n",
    "            temp=[]\n",
    "            #for evey key in the sorted_vocab_idf\n",
    "            for key in sorted_vocab_idf:\n",
    "                no_of_times=0\n",
    "                #to count number of times the word(key=each unique word) in the dictionary appeared in that ROW\n",
    "                for word in row.split():\n",
    "                    if word==key:\n",
    "                        no_of_times+=1\n",
    "                #calculate TF by finding number of times each unique word appeared in a row divided by total number of words in that row\n",
    "                temp.append(no_of_times/len(row.split()))\n",
    "            #appending TF values of all words in each row\n",
    "            tf.append(temp)\n",
    "   \n",
    " #CALCULATE NORMALISED VALUES OF TF_IDF VALUES\n",
    "        tf_idf=[]\n",
    "        #for every row(tf values of all words in that perticular row) in tf list\n",
    "        for lst in tf:\n",
    "            temp=[]\n",
    "            #multipy TF values of each word with its IDF value respectively\n",
    "            for idx in range(len(lst)):              \n",
    "                temp.append(lst[idx]*idf[idx])\n",
    "            tf_idf.append(temp)\n",
    "        #calculate normalization of TF_IDF values\n",
    "        tf_idf_norm=normalize(tf_idf, norm='l2')\n",
    "        return sorted_vocab_index,tf_idf_norm,sorted_vocab_idf\n",
    "\n",
    "        \n",
    "    else:\n",
    "        print(\"you need to pass list of sentence\")"
   ]
  },
  {
   "cell_type": "code",
   "execution_count": 16,
   "id": "fb66ba82",
   "metadata": {},
   "outputs": [
    {
     "name": "stdout",
     "output_type": "stream",
     "text": [
      "IDF VALUES ARE\n",
      " {'aailiyah': 6.922918004572872, 'abandoned': 6.922918004572872, 'abroad': 6.922918004572872, 'abstruse': 6.922918004572872, 'academy': 6.922918004572872, 'accents': 6.922918004572872, 'accessible': 6.922918004572872, 'acclaimed': 6.922918004572872, 'accolades': 6.922918004572872, 'accurate': 6.922918004572872, 'accurately': 6.922918004572872, 'achille': 6.922918004572872, 'ackerman': 6.922918004572872, 'actions': 6.922918004572872, 'adams': 6.922918004572872, 'add': 6.922918004572872, 'added': 6.922918004572872, 'admins': 6.922918004572872, 'admiration': 6.922918004572872, 'admitted': 6.922918004572872, 'adrift': 6.922918004572872, 'adventure': 6.922918004572872, 'aesthetically': 6.922918004572872, 'affected': 6.922918004572872, 'affleck': 6.922918004572872, 'afternoon': 6.922918004572872, 'aged': 6.922918004572872, 'ages': 6.922918004572872, 'agree': 6.922918004572872, 'agreed': 6.922918004572872, 'aimless': 6.922918004572872, 'aired': 6.922918004572872, 'akasha': 6.922918004572872, 'akin': 6.922918004572872, 'alert': 6.922918004572872, 'alike': 6.922918004572872, 'allison': 6.922918004572872, 'allow': 6.922918004572872, 'allowing': 6.922918004572872, 'alongside': 6.922918004572872, 'amateurish': 6.922918004572872, 'amaze': 6.922918004572872, 'amazed': 6.922918004572872, 'amazingly': 6.922918004572872, 'amusing': 6.922918004572872, 'amust': 6.922918004572872, 'anatomist': 6.922918004572872, 'angel': 6.922918004572872, 'angela': 6.922918004572872, 'angelina': 6.922918004572872}\n"
     ]
    }
   ],
   "source": [
    "sorted_vocab_index,tf_idf_norm,sorted_vocab_idf=fit(corpus)\n",
    "print('IDF VALUES ARE\\n',sorted_vocab_idf)"
   ]
  },
  {
   "cell_type": "code",
   "execution_count": 17,
   "id": "6aa270f2",
   "metadata": {},
   "outputs": [],
   "source": [
    "#TRANSFORM FUNCTION TO CREATE FEATURE MATRIX\n",
    "\n",
    "def transform(corpus,sorted_vocab_index):\n",
    "    rows = []                    \n",
    "    columns = []\n",
    "    values = []\n",
    "    #check whether given corpus in list format or not\n",
    "    if isinstance(corpus,(list,)):\n",
    "        #iterate over every row in the corpus list\n",
    "        for idx,row in enumerate(tqdm(corpus)):\n",
    "            #for every word in the row\n",
    "            for word in row.split():\n",
    "                #get column index of a word if it present in vocab(dictionary) or else set it to -1\n",
    "                col_index=sorted_vocab_index.get(word,-1)\n",
    "                #to check if column index of a word if it present in vocab(dictionary) is not -1\n",
    "                if col_index!=-1:\n",
    "                    #append row index of the word\n",
    "                    rows.append(idx)\n",
    "                    #append column index of the word\n",
    "                    columns.append(col_index)\n",
    "                    #append normalised tf_idf of that word\n",
    "                    values.append(tf_idf_norm[idx][col_index])\n",
    "        #creating sparse matrix from feature matrix    \n",
    "        return csr_matrix((values,(rows,columns)),shape=(len(corpus),len(sorted_vocab_idf)))    "
   ]
  },
  {
   "cell_type": "code",
   "execution_count": 18,
   "id": "d5c099a7",
   "metadata": {},
   "outputs": [
    {
     "name": "stderr",
     "output_type": "stream",
     "text": [
      "100%|████████████████████████████████████████████████████████████████████████████| 746/746 [00:00<00:00, 247759.19it/s]"
     ]
    },
    {
     "name": "stdout",
     "output_type": "stream",
     "text": [
      "MATRIX SHAPE IS\n",
      " (746, 50)\n",
      "****************************************************************************************************\n",
      "FIRST ROW OF SPARSE MATRIX\n",
      "   (0, 30)\t1.0\n",
      "****************************************************************************************************\n",
      "FIRST ROW(DOCUMENT) OF SPARSE MATRIX IS CONVERTED INTO DENSE MATRIX FORMAT\n",
      " [[0. 0. 0. 0. 0. 0. 0. 0. 0. 0. 0. 0. 0. 0. 0. 0. 0. 0. 0. 0. 0. 0. 0. 0.\n",
      "  0. 0. 0. 0. 0. 0. 1. 0. 0. 0. 0. 0. 0. 0. 0. 0. 0. 0. 0. 0. 0. 0. 0. 0.\n",
      "  0. 0.]]\n"
     ]
    },
    {
     "name": "stderr",
     "output_type": "stream",
     "text": [
      "\n"
     ]
    }
   ],
   "source": [
    "#calling transform function\n",
    "matrix=transform(corpus,sorted_vocab_index)\n",
    "print('MATRIX SHAPE IS\\n',matrix.shape)\n",
    "print('*'*100)\n",
    "print('FIRST ROW OF SPARSE MATRIX\\n',matrix[0])\n",
    "print('*'*100)\n",
    "print('FIRST ROW(DOCUMENT) OF SPARSE MATRIX IS CONVERTED INTO DENSE MATRIX FORMAT\\n',matrix[0].toarray())"
   ]
  },
  {
   "cell_type": "markdown",
   "id": "775f9d9c",
   "metadata": {},
   "source": [
    "### SKLEARN TF_IDF VECTORIZER"
   ]
  },
  {
   "cell_type": "code",
   "execution_count": 19,
   "id": "6610a531",
   "metadata": {},
   "outputs": [],
   "source": [
    "#SKLEARN TF_IDF VECTORIZER\n",
    "from sklearn.feature_extraction.text import TfidfVectorizer\n",
    "vectorizer = TfidfVectorizer(max_features=50) #max_features for tern frequency only not for idf........... #max_featuresint, default=None\n",
    "                                                #If not None, build a vocabulary that only consider the top max_features ordered by term frequency across the corpus.\n",
    "vectorizer.fit(corpus)\n",
    "skl_output = vectorizer.transform(corpus)"
   ]
  },
  {
   "cell_type": "code",
   "execution_count": 20,
   "id": "284852de",
   "metadata": {},
   "outputs": [
    {
     "name": "stdout",
     "output_type": "stream",
     "text": [
      "['acting', 'actors', 'also', 'bad', 'best', 'better', 'cast', 'character', 'characters', 'could', 'even', 'ever', 'every', 'excellent', 'film', 'films', 'funny', 'good', 'great', 'like', 'little', 'look', 'love', 'made', 'make', 'movie', 'movies', 'much', 'never', 'no', 'not', 'one', 'plot', 'real', 'really', 'scenes', 'script', 'see', 'seen', 'show', 'story', 'think', 'time', 'watch', 'watching', 'way', 'well', 'wonderful', 'work', 'would']\n"
     ]
    },
    {
     "name": "stderr",
     "output_type": "stream",
     "text": [
      "C:\\Users\\natar\\anaconda3\\envs\\tf_gpu\\lib\\site-packages\\sklearn\\utils\\deprecation.py:87: FutureWarning: Function get_feature_names is deprecated; get_feature_names is deprecated in 1.0 and will be removed in 1.2. Please use get_feature_names_out instead.\n",
      "  warnings.warn(msg, category=FutureWarning)\n"
     ]
    }
   ],
   "source": [
    "print(vectorizer.get_feature_names())"
   ]
  },
  {
   "cell_type": "code",
   "execution_count": 21,
   "id": "72388fc8",
   "metadata": {},
   "outputs": [
    {
     "name": "stdout",
     "output_type": "stream",
     "text": [
      "[3.97847903 4.67162621 4.39718936 3.62708114 4.57154275 4.78285184\n",
      " 4.67162621 4.57154275 4.15032928 4.39718936 4.03254625 4.48057097\n",
      " 4.84347646 4.97700786 2.7718781  4.67162621 4.78285184 3.78742379\n",
      " 4.18207798 4.00514727 4.72569343 4.62033291 4.57154275 4.48057097\n",
      " 4.67162621 2.71822539 4.48057097 4.72569343 4.72569343 4.35796865\n",
      " 2.89756631 3.57301392 4.35796865 4.57154275 4.08970466 4.78285184\n",
      " 4.67162621 4.03254625 4.48057097 4.78285184 4.57154275 4.67162621\n",
      " 3.95250354 4.72569343 4.67162621 4.52502273 4.11955762 4.67162621\n",
      " 4.67162621 4.28386067]\n"
     ]
    }
   ],
   "source": [
    "print(vectorizer.idf_)"
   ]
  },
  {
   "cell_type": "code",
   "execution_count": 22,
   "id": "b52f6874",
   "metadata": {},
   "outputs": [
    {
     "data": {
      "text/plain": [
       "array([[0., 0., 0., 0., 0., 0., 0., 0., 0., 0., 0., 0., 0., 0., 0., 0.,\n",
       "        0., 0., 0., 0., 0., 0., 0., 0., 0., 1., 0., 0., 0., 0., 0., 0.,\n",
       "        0., 0., 0., 0., 0., 0., 0., 0., 0., 0., 0., 0., 0., 0., 0., 0.,\n",
       "        0., 0.]])"
      ]
     },
     "execution_count": 22,
     "metadata": {},
     "output_type": "execute_result"
    }
   ],
   "source": [
    "skl_output[0].toarray()"
   ]
  },
  {
   "cell_type": "code",
   "execution_count": 23,
   "id": "adceb801",
   "metadata": {},
   "outputs": [
    {
     "data": {
      "text/plain": [
       "(746, 50)"
      ]
     },
     "execution_count": 23,
     "metadata": {},
     "output_type": "execute_result"
    }
   ],
   "source": [
    "skl_output.shape"
   ]
  }
 ],
 "metadata": {
  "kernelspec": {
   "display_name": "Python 3 (ipykernel)",
   "language": "python",
   "name": "python3"
  },
  "language_info": {
   "codemirror_mode": {
    "name": "ipython",
    "version": 3
   },
   "file_extension": ".py",
   "mimetype": "text/x-python",
   "name": "python",
   "nbconvert_exporter": "python",
   "pygments_lexer": "ipython3",
   "version": "3.9.12"
  }
 },
 "nbformat": 4,
 "nbformat_minor": 5
}
