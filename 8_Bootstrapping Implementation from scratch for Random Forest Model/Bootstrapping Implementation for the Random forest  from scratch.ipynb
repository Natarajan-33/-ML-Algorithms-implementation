{
 "cells": [
  {
   "cell_type": "markdown",
   "metadata": {},
   "source": [
    "# Problem statement\n",
    "- We need to build bootstrapping function for the Random forest from scratch"
   ]
  },
  {
   "cell_type": "markdown",
   "metadata": {
    "id": "3sNKZq4XrXQh"
   },
   "source": [
    "# <font color='red'><b>Bootstrapping Implementation from scratch</b> </font>"
   ]
  },
  {
   "cell_type": "markdown",
   "metadata": {
    "id": "cuxBq_bvrwh2"
   },
   "source": [
    "<font color='blue'> <b>Importing packages</b> </font>"
   ]
  },
  {
   "cell_type": "code",
   "execution_count": 75,
   "metadata": {
    "id": "m6ag91ijrQOs"
   },
   "outputs": [],
   "source": [
    "import numpy as np # importing numpy for numerical computation\n",
    "from sklearn.datasets import load_boston # here we are using sklearn's boston dataset\n",
    "from sklearn.metrics import mean_squared_error # importing mean_squared_error metric\n",
    "import random\n",
    "from sklearn.tree import DecisionTreeRegressor\n",
    "from sklearn.metrics import mean_squared_error\n",
    "import seaborn as sns\n",
    "import matplotlib.pyplot as plt\n",
    "from prettytable import PrettyTable\n",
    "import warnings\n",
    "warnings.filterwarnings(\"ignore\")"
   ]
  },
  {
   "cell_type": "code",
   "execution_count": 76,
   "metadata": {
    "id": "CcHOsONTt1K_"
   },
   "outputs": [],
   "source": [
    "#loading data\n",
    "\n",
    "boston = load_boston()\n",
    "x=boston.data #independent variables\n",
    "y=boston.target #target variable"
   ]
  },
  {
   "cell_type": "code",
   "execution_count": 77,
   "metadata": {
    "colab": {
     "base_uri": "https://localhost:8080/",
     "height": 34
    },
    "id": "pc1htEFYuLRj",
    "outputId": "f5b60712-98b3-4cdc-b629-3546c1e3859c"
   },
   "outputs": [
    {
     "data": {
      "text/plain": [
       "13"
      ]
     },
     "execution_count": 77,
     "metadata": {},
     "output_type": "execute_result"
    }
   ],
   "source": [
    "x.shape[1] #shape of the input"
   ]
  },
  {
   "cell_type": "code",
   "execution_count": 78,
   "metadata": {
    "colab": {
     "base_uri": "https://localhost:8080/",
     "height": 269
    },
    "id": "kQle3T_wuOa3",
    "outputId": "521c7bdd-5316-48d5-c534-b61d170d2c28"
   },
   "outputs": [
    {
     "data": {
      "text/plain": [
       "array([[6.3200e-03, 1.8000e+01, 2.3100e+00, 0.0000e+00, 5.3800e-01,\n",
       "        6.5750e+00, 6.5200e+01, 4.0900e+00, 1.0000e+00, 2.9600e+02,\n",
       "        1.5300e+01, 3.9690e+02, 4.9800e+00],\n",
       "       [2.7310e-02, 0.0000e+00, 7.0700e+00, 0.0000e+00, 4.6900e-01,\n",
       "        6.4210e+00, 7.8900e+01, 4.9671e+00, 2.0000e+00, 2.4200e+02,\n",
       "        1.7800e+01, 3.9690e+02, 9.1400e+00],\n",
       "       [2.7290e-02, 0.0000e+00, 7.0700e+00, 0.0000e+00, 4.6900e-01,\n",
       "        7.1850e+00, 6.1100e+01, 4.9671e+00, 2.0000e+00, 2.4200e+02,\n",
       "        1.7800e+01, 3.9283e+02, 4.0300e+00],\n",
       "       [3.2370e-02, 0.0000e+00, 2.1800e+00, 0.0000e+00, 4.5800e-01,\n",
       "        6.9980e+00, 4.5800e+01, 6.0622e+00, 3.0000e+00, 2.2200e+02,\n",
       "        1.8700e+01, 3.9463e+02, 2.9400e+00],\n",
       "       [6.9050e-02, 0.0000e+00, 2.1800e+00, 0.0000e+00, 4.5800e-01,\n",
       "        7.1470e+00, 5.4200e+01, 6.0622e+00, 3.0000e+00, 2.2200e+02,\n",
       "        1.8700e+01, 3.9690e+02, 5.3300e+00]])"
      ]
     },
     "execution_count": 78,
     "metadata": {},
     "output_type": "execute_result"
    }
   ],
   "source": [
    "x[:5]"
   ]
  },
  {
   "cell_type": "markdown",
   "metadata": {
    "id": "V2fHTdS_zpgG"
   },
   "source": [
    "# <font color='blue'> <b>Task - 1</b></font>"
   ]
  },
  {
   "cell_type": "markdown",
   "metadata": {},
   "source": [
    "*  <font color='blue'><b>Creating samples</b></font><br>"
   ]
  },
  {
   "cell_type": "markdown",
   "metadata": {},
   "source": [
    "* <font color='blue'><b> Create 30 samples </b></font>"
   ]
  },
  {
   "cell_type": "code",
   "execution_count": 79,
   "metadata": {},
   "outputs": [
    {
     "data": {
      "text/plain": [
       "303"
      ]
     },
     "execution_count": 79,
     "metadata": {},
     "output_type": "execute_result"
    }
   ],
   "source": [
    "round((x.shape[0])*60/100)-1       # size of random sampling without repetition from 60% of 506 datapoints"
   ]
  },
  {
   "cell_type": "code",
   "execution_count": 80,
   "metadata": {},
   "outputs": [
    {
     "data": {
      "text/plain": [
       "203"
      ]
     },
     "execution_count": 80,
     "metadata": {},
     "output_type": "execute_result"
    }
   ],
   "source": [
    "x.shape[0]-(round((x.shape[0])*60/100)-1) #size of random sampling with repetition from 40% of sampled datapoint"
   ]
  },
  {
   "cell_type": "code",
   "execution_count": 81,
   "metadata": {
    "id": "Ph_6D2SDzz7F"
   },
   "outputs": [],
   "source": [
    "def generating_samples(input_data, target_data):\n",
    "\n",
    "    '''In this function, we will write code for generating 30 samples '''\n",
    "    # you can use random.choice to generate random indices without replacement\n",
    "    # Please have a look at this link https://docs.scipy.org/doc/numpy-1.16.0/reference/generated/numpy.random.choice.html for more details\n",
    "    # Please follow above pseudo code for generating samples\n",
    "    \n",
    "    \n",
    "    selecting_rows=np.random.choice(len(input_data),round((input_data.shape[0])*60/100)-1, replace=False)                #random sampling index for 303 datapoints from X without repetition\n",
    "    replacing_rows=np.random.choice(len(selecting_rows),(input_data.shape[0]-(round((input_data.shape[0])*60/100)-1)))   #random sampling index for 203 datapoints from sampled data with repetition\n",
    "    selecting_columns=np.random.choice(x.shape[1],random.randint(3, input_data.shape[1]),replace=False)                  #getting random index for column without repetition\n",
    "   \n",
    "    \n",
    "    sample_data=x[selecting_rows[:,None],selecting_columns] #sampling rows with random sampled index\n",
    "    targer_of_sample_Data=y[selecting_rows]                 #getting the respective target variable\n",
    "                  \n",
    "    replecating_data=sample_data[replacing_rows]                     #replecated rows\n",
    "    targer_of_replecating_Data=targer_of_sample_Data[replacing_rows] #varget variable for replecated rows\n",
    "                  \n",
    "    final_sample_data=np.vstack((sample_data, replecating_data))      #vertical staking of rows and targers variable individually\n",
    "    final_target_data=np.vstack((targer_of_sample_Data.reshape(-1,1), targer_of_replecating_Data.reshape(-1,1)))\n",
    "    \n",
    "    \n",
    "    \n",
    "\n",
    "    return final_sample_data , final_target_data,selecting_rows,selecting_columns"
   ]
  },
  {
   "cell_type": "code",
   "execution_count": 84,
   "metadata": {
    "id": "XXlKWjCcBvTk"
   },
   "outputs": [],
   "source": [
    "# Use generating_samples function to create 30 samples \n",
    "# store these created samples in a list\n",
    "list_input_data =[]\n",
    "list_output_data =[]\n",
    "list_selected_row= []\n",
    "list_selected_columns=[]\n",
    "\n",
    "for i in range(0,30):                 #create 30 such samples\n",
    "    a,b,c,d=generating_samples(x, y)\n",
    "    list_input_data.append(a)\n",
    "    list_output_data.append(b)\n",
    "    list_selected_row.append(c)\n",
    "    list_selected_columns.append(d)"
   ]
  },
  {
   "cell_type": "markdown",
   "metadata": {
    "id": "7Pv-mkZkO6dh"
   },
   "source": [
    "<br>"
   ]
  },
  {
   "cell_type": "markdown",
   "metadata": {
    "id": "whaHCPB0O8qF"
   },
   "source": [
    "<font color='red'><b>Step - 2 </b></font>"
   ]
  },
  {
   "cell_type": "markdown",
   "metadata": {
    "id": "WRwPO_uHQjul"
   },
   "source": [
    "*  <font color='blue'><b> Writing code for building regression trees</b></font>"
   ]
  },
  {
   "cell_type": "code",
   "execution_count": 86,
   "metadata": {
    "id": "YWQp6tRwMthq"
   },
   "outputs": [],
   "source": [
    "model_i=[0]*30                  #to store the model\n",
    "for i in range(30):             #build 30 tress,each one with respect to each sample       \n",
    "    model_i[i]=DecisionTreeRegressor(max_depth=None)\n",
    "    model_i[i].fit(list_input_data[i],list_output_data[i])"
   ]
  },
  {
   "cell_type": "code",
   "execution_count": 87,
   "metadata": {},
   "outputs": [
    {
     "data": {
      "text/html": [
       "<style>#sk-container-id-3 {color: black;background-color: white;}#sk-container-id-3 pre{padding: 0;}#sk-container-id-3 div.sk-toggleable {background-color: white;}#sk-container-id-3 label.sk-toggleable__label {cursor: pointer;display: block;width: 100%;margin-bottom: 0;padding: 0.3em;box-sizing: border-box;text-align: center;}#sk-container-id-3 label.sk-toggleable__label-arrow:before {content: \"▸\";float: left;margin-right: 0.25em;color: #696969;}#sk-container-id-3 label.sk-toggleable__label-arrow:hover:before {color: black;}#sk-container-id-3 div.sk-estimator:hover label.sk-toggleable__label-arrow:before {color: black;}#sk-container-id-3 div.sk-toggleable__content {max-height: 0;max-width: 0;overflow: hidden;text-align: left;background-color: #f0f8ff;}#sk-container-id-3 div.sk-toggleable__content pre {margin: 0.2em;color: black;border-radius: 0.25em;background-color: #f0f8ff;}#sk-container-id-3 input.sk-toggleable__control:checked~div.sk-toggleable__content {max-height: 200px;max-width: 100%;overflow: auto;}#sk-container-id-3 input.sk-toggleable__control:checked~label.sk-toggleable__label-arrow:before {content: \"▾\";}#sk-container-id-3 div.sk-estimator input.sk-toggleable__control:checked~label.sk-toggleable__label {background-color: #d4ebff;}#sk-container-id-3 div.sk-label input.sk-toggleable__control:checked~label.sk-toggleable__label {background-color: #d4ebff;}#sk-container-id-3 input.sk-hidden--visually {border: 0;clip: rect(1px 1px 1px 1px);clip: rect(1px, 1px, 1px, 1px);height: 1px;margin: -1px;overflow: hidden;padding: 0;position: absolute;width: 1px;}#sk-container-id-3 div.sk-estimator {font-family: monospace;background-color: #f0f8ff;border: 1px dotted black;border-radius: 0.25em;box-sizing: border-box;margin-bottom: 0.5em;}#sk-container-id-3 div.sk-estimator:hover {background-color: #d4ebff;}#sk-container-id-3 div.sk-parallel-item::after {content: \"\";width: 100%;border-bottom: 1px solid gray;flex-grow: 1;}#sk-container-id-3 div.sk-label:hover label.sk-toggleable__label {background-color: #d4ebff;}#sk-container-id-3 div.sk-serial::before {content: \"\";position: absolute;border-left: 1px solid gray;box-sizing: border-box;top: 0;bottom: 0;left: 50%;z-index: 0;}#sk-container-id-3 div.sk-serial {display: flex;flex-direction: column;align-items: center;background-color: white;padding-right: 0.2em;padding-left: 0.2em;position: relative;}#sk-container-id-3 div.sk-item {position: relative;z-index: 1;}#sk-container-id-3 div.sk-parallel {display: flex;align-items: stretch;justify-content: center;background-color: white;position: relative;}#sk-container-id-3 div.sk-item::before, #sk-container-id-3 div.sk-parallel-item::before {content: \"\";position: absolute;border-left: 1px solid gray;box-sizing: border-box;top: 0;bottom: 0;left: 50%;z-index: -1;}#sk-container-id-3 div.sk-parallel-item {display: flex;flex-direction: column;z-index: 1;position: relative;background-color: white;}#sk-container-id-3 div.sk-parallel-item:first-child::after {align-self: flex-end;width: 50%;}#sk-container-id-3 div.sk-parallel-item:last-child::after {align-self: flex-start;width: 50%;}#sk-container-id-3 div.sk-parallel-item:only-child::after {width: 0;}#sk-container-id-3 div.sk-dashed-wrapped {border: 1px dashed gray;margin: 0 0.4em 0.5em 0.4em;box-sizing: border-box;padding-bottom: 0.4em;background-color: white;}#sk-container-id-3 div.sk-label label {font-family: monospace;font-weight: bold;display: inline-block;line-height: 1.2em;}#sk-container-id-3 div.sk-label-container {text-align: center;}#sk-container-id-3 div.sk-container {/* jupyter's `normalize.less` sets `[hidden] { display: none; }` but bootstrap.min.css set `[hidden] { display: none !important; }` so we also need the `!important` here to be able to override the default hidden behavior on the sphinx rendered scikit-learn.org. See: https://github.com/scikit-learn/scikit-learn/issues/21755 */display: inline-block !important;position: relative;}#sk-container-id-3 div.sk-text-repr-fallback {display: none;}</style><div id=\"sk-container-id-3\" class=\"sk-top-container\"><div class=\"sk-text-repr-fallback\"><pre>DecisionTreeRegressor()</pre><b>In a Jupyter environment, please rerun this cell to show the HTML representation or trust the notebook. <br />On GitHub, the HTML representation is unable to render, please try loading this page with nbviewer.org.</b></div><div class=\"sk-container\" hidden><div class=\"sk-item\"><div class=\"sk-estimator sk-toggleable\"><input class=\"sk-toggleable__control sk-hidden--visually\" id=\"sk-estimator-id-3\" type=\"checkbox\" checked><label for=\"sk-estimator-id-3\" class=\"sk-toggleable__label sk-toggleable__label-arrow\">DecisionTreeRegressor</label><div class=\"sk-toggleable__content\"><pre>DecisionTreeRegressor()</pre></div></div></div></div></div>"
      ],
      "text/plain": [
       "DecisionTreeRegressor()"
      ]
     },
     "execution_count": 87,
     "metadata": {},
     "output_type": "execute_result"
    }
   ],
   "source": [
    "model_i[0]                       #to check for correctness"
   ]
  },
  {
   "cell_type": "markdown",
   "metadata": {
    "id": "TnIMT7_oR312"
   },
   "source": [
    "*  <font color='blue'><b> Writing code for calculating MSE</b></font>"
   ]
  },
  {
   "cell_type": "code",
   "execution_count": 88,
   "metadata": {
    "id": "qWhcvMRWRA9b"
   },
   "outputs": [],
   "source": [
    "#to get prediction for all datapoints on all model\n",
    "\n",
    "y_pred_all=[0]*30\n",
    "for i in range(30):            #with each tree, we are trying to predict the y with all datapoints\n",
    "    y_pred_all[i]=model_i[i].predict(x[:,list_selected_columns[i]])  # y_pred_all[0] ----represent predicted value for all datapoints on 1st tree"
   ]
  },
  {
   "cell_type": "code",
   "execution_count": 89,
   "metadata": {},
   "outputs": [],
   "source": [
    "#find the mean of predicted y for a given datapoint across all the model\n",
    "\n",
    "y_pred=[]                                             #to store the y predicted \n",
    "for each_datapoint in range(len(y_pred_all[0])):      #for each datapoint\n",
    "    y_sum=0\n",
    "    for each_model in range (len(y_pred_all)):          #on each model\n",
    "        y_sum+=y_pred_all[each_model][each_datapoint]   #sum of y predicted for a single given datapoint across all model\n",
    "    y_mean= y_sum/len(y_pred_all)                       #finding mean for summed up value of y predicted for a single given datapoint across all model\n",
    "    y_pred.append(y_mean)    \n",
    "    "
   ]
  },
  {
   "cell_type": "code",
   "execution_count": 90,
   "metadata": {},
   "outputs": [
    {
     "data": {
      "text/plain": [
       "506"
      ]
     },
     "execution_count": 90,
     "metadata": {},
     "output_type": "execute_result"
    }
   ],
   "source": [
    "len(y_pred)"
   ]
  },
  {
   "cell_type": "code",
   "execution_count": 91,
   "metadata": {},
   "outputs": [
    {
     "name": "stdout",
     "output_type": "stream",
     "text": [
      "Mean squared error= 2.7815090429426124\n"
     ]
    }
   ],
   "source": [
    "mse=mean_squared_error(y,y_pred)       #calculating mean squred error on y_predicted for train data\n",
    "print(\"Mean squared error=\",mse)"
   ]
  },
  {
   "cell_type": "markdown",
   "metadata": {
    "id": "RuclPDMnSz8F"
   },
   "source": [
    "<font color='blue'><b>Step - 3 </b></font>"
   ]
  },
  {
   "cell_type": "markdown",
   "metadata": {
    "id": "WW3GOcFzTqbt"
   },
   "source": [
    "Now calculate the $OOB Score =  \\frac{1}{506}\\sum_{i=1}^{506}(y^{i} - y^{i}_{pred})^{2}$."
   ]
  },
  {
   "cell_type": "markdown",
   "metadata": {
    "id": "zBqcS03pUYSZ"
   },
   "source": [
    "*  <font color='blue'><b> Writing code for calculating OOB score </b></font>"
   ]
  },
  {
   "cell_type": "code",
   "execution_count": 92,
   "metadata": {
    "id": "Fog_6DNdS-h_"
   },
   "outputs": [],
   "source": [
    "#predicting y for the datapoint which is not seen by the model while they trained\n",
    "\n",
    "y_pred_non_seen=[0]*30       \n",
    "for i in range(30):\n",
    "    x_deleted=np.delete(x,list_selected_row[i],0)  #deleting the seen(known) datapoint from X\n",
    "                                                   #how to delete element form array : np.delete(): #https://note.nkmk.me/en/python-numpy-delete/\n",
    "    \n",
    "    y_pred_non_seen[i]=model_i[i].predict(x_deleted[:,list_selected_columns[i]])   #predict for unseen data by model across all the 30 model\n",
    "\n",
    "'''Note - since, not all the data is predicted on all the model,  y_pred_non_seen[i] list does not contain prediction value of all the datapoint.  \n",
    "it only contains predicted value of unseen datapoint by model...any given \"y_pred_non_seen[i] \" and \"y_pred_non_seen[i+1]\" may have diffent datapoint's y_predicted value on any same index. \n",
    "Example at 0th index of \"y_pred_non_seen[i] \" may contain y_pred value for 1st datapoint(since i'th model does not seen 1st datpoint while trained) and at the same index\n",
    "\"y_pred_non_seen[i+1]\"  may contain y_pred value for 2nd datapoint(since i+1'th model does seen 1st datapoint and does not seen 2st datpoint while trained).\n",
    "So while reading the value from this list, we are doing delete opertion like \"np.delete(y_pred_non_seen[each_model],0,0)\". so that once the datapoints y predicted is taken from \"y_pred_non_seen\"\n",
    "list, 0th element is deleted. so,now by default the 1st element come to 0th position and so on. so we do not need to keep track of which datapoint is in which index'''\n",
    "\n",
    "y_pred=[]\n",
    "for each_datapoint in range(len(y)):                                  #on each model\n",
    "    k=0          #to keep track of number of tree which are build by not using a given datapoint \n",
    "    y_sum=0\n",
    "    for each_model in range (len(y_pred_all)):                        #on each model\n",
    "        list_selected_set = set(list_selected_row[each_model])        #put given model's selected row's indices on set\n",
    "        if each_datapoint not in list_selected_set :                  #if a datapoint is not in the set(ie,for unseen data)\n",
    "            k+=1                                                     \n",
    "            y_sum+=y_pred_non_seen[each_model][0]                     #get 0th index of the \"y_pred_non_seen\" list of that model \n",
    "            y_pred_non_seen[each_model]=np.delete(y_pred_non_seen[each_model],0,0)    #delete that 0th index element once it is considered, so that the 1st element now become the 0th element\n",
    "                                                                                      #this deletion process ensure that we are correcly getting y_pred value for each datapoint from the unseen model only.\n",
    "    if k>0:     #if atleast one model does not trained on the given datapoint            \n",
    "        y_mean= y_sum/k  \n",
    "        y_pred.append(y_mean)\n",
    "    if k==0:    #if all 30 model trained on the given datapoint,we simply append 0(but this senario is very very rare)\n",
    "        y_pred.append(0)    "
   ]
  },
  {
   "cell_type": "code",
   "execution_count": 93,
   "metadata": {},
   "outputs": [
    {
     "data": {
      "text/plain": [
       "506"
      ]
     },
     "execution_count": 93,
     "metadata": {},
     "output_type": "execute_result"
    }
   ],
   "source": [
    "len(y)      "
   ]
  },
  {
   "cell_type": "code",
   "execution_count": 94,
   "metadata": {},
   "outputs": [
    {
     "data": {
      "text/plain": [
       "506"
      ]
     },
     "execution_count": 94,
     "metadata": {},
     "output_type": "execute_result"
    }
   ],
   "source": [
    "len(y_pred)        #to check whether y_pred has value for all 506 datapoint"
   ]
  },
  {
   "cell_type": "code",
   "execution_count": 95,
   "metadata": {},
   "outputs": [
    {
     "name": "stdout",
     "output_type": "stream",
     "text": [
      "OOB error = 15.030707703073817\n"
     ]
    }
   ],
   "source": [
    "oob_score=mean_squared_error(y,y_pred)      #finding out of bag error \n",
    "print(\"OOB error =\",oob_score)"
   ]
  },
  {
   "cell_type": "markdown",
   "metadata": {
    "id": "sbuiwX3OUjUI"
   },
   "source": [
    "# <font color='blue'><b>Task 2</b></font>"
   ]
  },
  {
   "cell_type": "markdown",
   "metadata": {},
   "source": [
    "*  <font color='blue'><b>Computing CI of OOB Score and Train MSE</b></font>"
   ]
  },
  {
   "cell_type": "code",
   "execution_count": 96,
   "metadata": {
    "id": "ceW5-D88Uswi"
   },
   "outputs": [],
   "source": [
    "# repeat finding MSE and OOB for the 35 times to make the sample of MSEs and OOBs(ie,like 35 sample means)\n",
    "\n",
    "MSE=[]              #list to append 35 values\n",
    "OOB=[]\n",
    "for iterations in range(35): #for creating 35 samples(MSE and OOB)\n",
    "    list_input_data =[]      ## store these created samples in a list\n",
    "    list_output_data =[]           \n",
    "    list_selected_row= []\n",
    "    list_selected_columns=[]\n",
    "\n",
    "    for i in range(0,30):     ##create 30 such samples\n",
    "        a,b,c,d=generating_samples(x, y)\n",
    "        list_input_data.append(a)       #appending created \n",
    "        list_output_data.append(b)\n",
    "        list_selected_row.append(c)\n",
    "        list_selected_columns.append(d)\n",
    "\n",
    "    model_i=[0]*30\n",
    "    for i in range(30):            #build 30 tress,each one with respect to each sample\n",
    "        model_i[i]=DecisionTreeRegressor(max_depth=None)\n",
    "        model_i[i].fit(list_input_data[i],list_output_data[i])\n",
    "\n",
    "    y_pred_all=[0]*30\n",
    "    for i in range(30):            #predict y value for given all datapoint\n",
    "        y_pred_all[i]=model_i[i].predict(x[:,list_selected_columns[i]])\n",
    "\n",
    "    y_pred=[]\n",
    "    for each_datapoint in range(len(y_pred_all[0])):        #for each datapoint\n",
    "        y_sum=0\n",
    "        for each_model in range (len(y_pred_all)):          #on each model\n",
    "            y_sum+=y_pred_all[each_model][each_datapoint]   #sum of y predicted for a single given datapoint across all model\n",
    "        y_mean= y_sum/len(y_pred_all)                       #finding mean for summed up value of y predicted for a single given datapoint across all model\n",
    "        y_pred.append(y_mean)    \n",
    "\n",
    "\n",
    "    mse=mean_squared_error(y,y_pred)                        #finding MSE on y_true  and y_predicted\n",
    "    MSE.append(mse)\n",
    "\n",
    "    y_pred_non_seen=[0]*30                                  #predict for unseen data\n",
    "    for i in range(30):\n",
    "        x_deleted=np.delete(x,list_selected_row[i],0)               #deleting the seen(known) datapoint from X\n",
    "                                                                    #how to delete element form array : np.delete(): #https://note.nkmk.me/en/python-numpy-delete/\n",
    "        y_pred_non_seen[i]=model_i[i].predict(x_deleted[:,list_selected_columns[i]])    #predict for unseen data\n",
    "\n",
    "\n",
    "    y_pred=[]\n",
    "    for each_datapoint in range(len(y)):                                  #on each model\n",
    "        k=0          #to keep track of number of tree which is build by not using a given datapoint \n",
    "        y_sum=0\n",
    "        for each_model in range (len(y_pred_all)):                        #on each model\n",
    "            list_selected_set = set(list_selected_row[each_model])        #put selected row's indices on set\n",
    "            if each_datapoint not in list_selected_set :                  #if a datapoint is not in the set(ie,for unseen data)\n",
    "                k+=1                                                     \n",
    "                y_sum+=y_pred_non_seen[each_model][0]                     #get 0th index of the \"y_pred_non_seen\" list of that model \n",
    "                y_pred_non_seen[each_model]=np.delete(y_pred_non_seen[each_model],0,0)    #delete that oth index element once it is considered, so that the 1st element now become the 0th element\n",
    "                                                                                          #this deletion process ensure that we are correcly getting y_pred value for each datapoint from the unseen model only\n",
    "        if k>0:     #if atleast one model does not trained on the given datapoint            \n",
    "            y_mean= y_sum/k  \n",
    "            y_pred.append(y_mean)\n",
    "        if k==0:    #if all 30 model trained on the datapoint,we simply append 0(but this senario is very very rare)\n",
    "            y_pred.append(0)    \n",
    "\n",
    "    oob_score=mean_squared_error(y,y_pred)\n",
    "    OOB.append(oob_score)"
   ]
  },
  {
   "cell_type": "code",
   "execution_count": 97,
   "metadata": {},
   "outputs": [
    {
     "data": {
      "text/plain": [
       "506"
      ]
     },
     "execution_count": 97,
     "metadata": {},
     "output_type": "execute_result"
    }
   ],
   "source": [
    "len(y_pred)"
   ]
  },
  {
   "cell_type": "code",
   "execution_count": 98,
   "metadata": {
    "scrolled": true
   },
   "outputs": [
    {
     "data": {
      "text/plain": [
       "[2.4635740989428054,\n",
       " 2.355720021664877,\n",
       " 3.0723852031649797,\n",
       " 2.1519505928853757,\n",
       " 1.771821551311199,\n",
       " 2.2364492149866995,\n",
       " 2.3602112349694977,\n",
       " 2.3580168189031387,\n",
       " 2.8717415554966275,\n",
       " 1.9257239661103793,\n",
       " 2.5968451504833348,\n",
       " 2.1123957065410703,\n",
       " 2.6434591885203567,\n",
       " 2.163129547327537,\n",
       " 2.3391361020510724,\n",
       " 2.3447092446201143,\n",
       " 2.503517633122642,\n",
       " 2.290348202794287,\n",
       " 2.1726961603255264,\n",
       " 2.0752767832674572,\n",
       " 2.154832421311546,\n",
       " 2.626488756849652,\n",
       " 2.228291210189492,\n",
       " 2.512993558894336,\n",
       " 2.1206862297182307,\n",
       " 2.2717366230139793,\n",
       " 2.6239543299570403,\n",
       " 2.713706233328025,\n",
       " 2.4762588428832046,\n",
       " 2.1731659432181663,\n",
       " 2.479661725884152,\n",
       " 2.2066817062899533,\n",
       " 3.059955665798317,\n",
       " 2.273866671935134,\n",
       " 2.713799967506908]"
      ]
     },
     "execution_count": 98,
     "metadata": {},
     "output_type": "execute_result"
    }
   ],
   "source": [
    "MSE"
   ]
  },
  {
   "cell_type": "code",
   "execution_count": 99,
   "metadata": {
    "scrolled": true
   },
   "outputs": [
    {
     "data": {
      "text/plain": [
       "[14.948984386127618,\n",
       " 14.352178680062488,\n",
       " 14.316706329974899,\n",
       " 12.242117046243862,\n",
       " 10.528225368014267,\n",
       " 12.926368082409502,\n",
       " 13.142563939851707,\n",
       " 13.27211890325673,\n",
       " 14.392524962390311,\n",
       " 11.854754132068326,\n",
       " 14.127086805411505,\n",
       " 12.654653739316784,\n",
       " 15.453824124316327,\n",
       " 13.633993567257308,\n",
       " 14.742663622641137,\n",
       " 13.728482455945104,\n",
       " 13.381994553211731,\n",
       " 14.0200663285315,\n",
       " 14.361186962691384,\n",
       " 12.63548313682352,\n",
       " 12.681214806600112,\n",
       " 13.964866984894458,\n",
       " 14.37441491956044,\n",
       " 14.146849329872314,\n",
       " 12.403594707187859,\n",
       " 12.818888561256406,\n",
       " 13.557307267829826,\n",
       " 15.348967404490761,\n",
       " 14.335786856104,\n",
       " 12.74776543677682,\n",
       " 13.203804437830591,\n",
       " 13.097400872710363,\n",
       " 15.8969165359147,\n",
       " 11.901408926793334,\n",
       " 15.200204626872337]"
      ]
     },
     "execution_count": 99,
     "metadata": {},
     "output_type": "execute_result"
    }
   ],
   "source": [
    "OOB"
   ]
  },
  {
   "cell_type": "markdown",
   "metadata": {},
   "source": [
    "# MSE"
   ]
  },
  {
   "cell_type": "markdown",
   "metadata": {},
   "source": [
    "#### Histogram of OOB_score"
   ]
  },
  {
   "cell_type": "code",
   "execution_count": 100,
   "metadata": {},
   "outputs": [
    {
     "data": {
      "text/plain": [
       "[Text(0.5, 0, 'Mean squared error'), Text(0.5, 1.0, 'Histogram of MSE')]"
      ]
     },
     "execution_count": 100,
     "metadata": {},
     "output_type": "execute_result"
    },
    {
     "data": {
      "image/png": "[encoded data removed]",
      "text/plain": [
       "<Figure size 432x288 with 1 Axes>"
      ]
     },
     "metadata": {
      "needs_background": "light"
     },
     "output_type": "display_data"
    }
   ],
   "source": [
    "#Histogram of MSE\n",
    "# it follows normal distribution\n",
    "\n",
    "plt=sns.distplot(MSE)\n",
    "plt.set(xlabel =\"Mean squared error\", title ='Histogram of MSE')"
   ]
  },
  {
   "cell_type": "markdown",
   "metadata": {},
   "source": [
    "#### Calculating Confidence interval for OOB"
   ]
  },
  {
   "cell_type": "code",
   "execution_count": 101,
   "metadata": {},
   "outputs": [
    {
     "name": "stdout",
     "output_type": "stream",
     "text": [
      "+----------+------------------------+--------------------+----------+-----------+\n",
      "| #samples | number of Sample means |    Sample mean     | Left C.I | Right C.I |\n",
      "+----------+------------------------+--------------------+----------+-----------+\n",
      "|   MSE    |           35           | 2.3841482246933463 |  2.288   |   2.481   |\n",
      "+----------+------------------------+--------------------+----------+-----------+\n"
     ]
    }
   ],
   "source": [
    "#calculating Confidence interval for MSE\n",
    "#reference taken from given reference Central limit thorey ipython notebook\n",
    "\n",
    "table= PrettyTable()\n",
    "table = PrettyTable([\"#samples\", \"number of Sample means\", \"Sample mean\",\"Left C.I\",\"Right C.I\"])\n",
    "\n",
    "MSE=np.array(MSE)\n",
    "sample=MSE\n",
    "sample_mean = sample.mean()  #find mean\n",
    "sample_std =  sample.std()   #find std\n",
    "sample_size = len(sample)\n",
    "# here we are using sample standard deviation instead of population standard deviation\n",
    "left_limit  = np.round(sample_mean - 2*(sample_std/np.sqrt(sample_size)), 3)#finding left limit of C.I\n",
    "right_limit = np.round(sample_mean + 2*(sample_std/np.sqrt(sample_size)), 3) #finding Right limit of C.I\n",
    "row = []\n",
    "row.append('MSE')\n",
    "row.append(sample_size)\n",
    "row.append(sample_mean)\n",
    "row.append(left_limit)\n",
    "row.append(right_limit)\n",
    "table.add_row(row)\n",
    "print(table)"
   ]
  },
  {
   "cell_type": "markdown",
   "metadata": {},
   "source": [
    "# OOB_score"
   ]
  },
  {
   "cell_type": "markdown",
   "metadata": {},
   "source": [
    "#### Histogram of OOB_score"
   ]
  },
  {
   "cell_type": "code",
   "execution_count": 102,
   "metadata": {},
   "outputs": [
    {
     "data": {
      "text/plain": [
       "[Text(0.5, 0, 'OOB error'), Text(0.5, 1.0, 'Histogram of out of bag error')]"
      ]
     },
     "execution_count": 102,
     "metadata": {},
     "output_type": "execute_result"
    },
    {
     "data": {
      "image/png": "[encoded data removed]",
      "text/plain": [
       "<Figure size 432x288 with 1 Axes>"
      ]
     },
     "metadata": {
      "needs_background": "light"
     },
     "output_type": "display_data"
    }
   ],
   "source": [
    "#Histogram of OOB_score\n",
    "# it follows normal distribution\n",
    "\n",
    "plt=sns.distplot(OOB)\n",
    "plt.set(xlabel =\"OOB error\", title ='Histogram of out of bag error')"
   ]
  },
  {
   "cell_type": "markdown",
   "metadata": {},
   "source": [
    "#### Calculating Confidence interval for OOB"
   ]
  },
  {
   "cell_type": "code",
   "execution_count": 103,
   "metadata": {},
   "outputs": [
    {
     "name": "stdout",
     "output_type": "stream",
     "text": [
      "+-----------+------------------------+--------------------+----------+-----------+\n",
      "|  #samples | number of Sample means |    Sample mean     | Left C.I | Right C.I |\n",
      "+-----------+------------------------+--------------------+----------+-----------+\n",
      "| OOB_score |           35           | 13.611296251464012 |  13.225  |   13.997  |\n",
      "+-----------+------------------------+--------------------+----------+-----------+\n"
     ]
    }
   ],
   "source": [
    "#calculating Confidence interval for OOB\n",
    "table = PrettyTable()\n",
    "table = PrettyTable([\"#samples\", \"number of Sample means\", \"Sample mean\",\"Left C.I\",\"Right C.I\"])\n",
    "\n",
    "OOB=np.array(OOB)       #convering to array\n",
    "sample=OOB\n",
    "sample_mean = sample.mean()  #find mean\n",
    "sample_std =  sample.std()   #find std\n",
    "sample_size = len(sample)\n",
    "# here we are using sample standard deviation instead of population standard deviation\n",
    "left_limit  = np.round(sample_mean - 2*(sample_std/np.sqrt(sample_size)), 3)  #finding left limit of C.I\n",
    "right_limit = np.round(sample_mean + 2*(sample_std/np.sqrt(sample_size)), 3)  #finding Right limit of C.I\n",
    "row = []\n",
    "row.append('OOB_score') #drawing prettytable\n",
    "row.append(sample_size)\n",
    "row.append(sample_mean)\n",
    "row.append(left_limit)\n",
    "row.append(right_limit)\n",
    "table.add_row(row)\n",
    "print(table)"
   ]
  },
  {
   "cell_type": "markdown",
   "metadata": {
    "id": "jKTnJdiBVS_e"
   },
   "source": [
    "# <font color='blue'><b>Task 3</b></font>"
   ]
  },
  {
   "cell_type": "markdown",
   "metadata": {},
   "source": [
    "*  <font color='blue'><b>Given a single query point predict the price of house.</b></font>"
   ]
  },
  {
   "cell_type": "code",
   "execution_count": 104,
   "metadata": {
    "id": "i_pUlSD-VYD1"
   },
   "outputs": [],
   "source": [
    "xq= [0.18,20.0,5.00,0.0,0.421,5.60,72.2,7.95,7.0,30.0,19.1,372.13,18.60] \n",
    "xq=np.array(xq)     #convering query point from list to array\n",
    "y_pred=[]           #store y_pred for Xq across all 30 models\n",
    "\n",
    "for i in range(30):\n",
    "    y_pred=np.append(y_pred,model_i[i].predict(xq[list_selected_columns[i]].reshape(1, -1))) #finding y_pred across all model with necessary columns needed for each model"
   ]
  },
  {
   "cell_type": "code",
   "execution_count": 105,
   "metadata": {},
   "outputs": [
    {
     "data": {
      "text/plain": [
       "19.45"
      ]
     },
     "execution_count": 105,
     "metadata": {},
     "output_type": "execute_result"
    }
   ],
   "source": [
    "np.median(y_pred)            #median value for y_pred but we consider mean value as predicted house price"
   ]
  },
  {
   "cell_type": "code",
   "execution_count": 106,
   "metadata": {},
   "outputs": [
    {
     "name": "stdout",
     "output_type": "stream",
     "text": [
      "Predicted house price for given query point [1.8000e-01 2.0000e+01 5.0000e+00 0.0000e+00 4.2100e-01 5.6000e+00\n",
      " 7.2200e+01 7.9500e+00 7.0000e+00 3.0000e+01 1.9100e+01 3.7213e+02\n",
      " 1.8600e+01] is 21.075333333333333 units\n"
     ]
    }
   ],
   "source": [
    "the_house_price_for_xq = y_pred.mean()     #Here,we are taking mean value of y_pred as predicted house price for the given xq\n",
    "print(f\"Predicted house price for given query point {xq} is {the_house_price_for_xq} units\")"
   ]
  },
  {
   "cell_type": "markdown",
   "metadata": {
    "id": "AIcax45hWKT-"
   },
   "source": [
    "# <font color='red'><b>observations</b></font>"
   ]
  },
  {
   "cell_type": "markdown",
   "metadata": {},
   "source": [
    "### Task 1"
   ]
  },
  {
   "cell_type": "markdown",
   "metadata": {},
   "source": [
    "- We found MSE=2.7815090429426124 and OOB score=15.030707703073817. OOB score is always higher than MSE since it is calculated with predicted values of the given datapoints with which the model is not trained on.\n",
    "\n",
    "\n",
    "- if OOB score is not changing drastically over many iterations, then it shows that our all model is build robously with non biased sampling datapoints\n",
    "\n",
    "\n",
    "- So finding **OOB score is like testing the model in training phase itself**.  "
   ]
  },
  {
   "cell_type": "markdown",
   "metadata": {},
   "source": [
    "### Task 2"
   ]
  },
  {
   "cell_type": "markdown",
   "metadata": {},
   "source": [
    "- Here we found MSE and OOB score for 35 iterations.At each iterations we sampled 506 datapoints and found y predicted for each datapoint with 30 models and averaged them.Then we found mean of squared errors which is MSE.\n",
    "\n",
    "\n",
    "- According to central limit theorem, sampling distribution of sample means approximately follows Normal distribution. So MSE is the mean of squre of errors which is like sample means.So **samples of MSE and OOB follows normal distribution** which can be seen on histogram."
   ]
  },
  {
   "cell_type": "markdown",
   "metadata": {},
   "source": [
    "### Task 3"
   ]
  },
  {
   "cell_type": "markdown",
   "metadata": {},
   "source": [
    "- We get the predicted housing price of the given xq as **21.075333333333333 units**"
   ]
  }
 ],
 "metadata": {
  "colab": {
   "collapsed_sections": [],
   "name": "Bootstrap_assignment.ipynb",
   "provenance": []
  },
  "kernelspec": {
   "display_name": "Python 3 (ipykernel)",
   "language": "python",
   "name": "python3"
  },
  "language_info": {
   "codemirror_mode": {
    "name": "ipython",
    "version": 3
   },
   "file_extension": ".py",
   "mimetype": "text/x-python",
   "name": "python",
   "nbconvert_exporter": "python",
   "pygments_lexer": "ipython3",
   "version": "3.9.12"
  }
 },
 "nbformat": 4,
 "nbformat_minor": 1
}
